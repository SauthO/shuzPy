{
 "cells": [
  {
   "cell_type": "code",
   "execution_count": 10,
   "id": "e3e8ebaf-2e2a-4255-8e1b-83d4f251d37a",
   "metadata": {},
   "outputs": [
    {
     "name": "stdin",
     "output_type": "stream",
     "text": [
      " 101\n"
     ]
    },
    {
     "name": "stdout",
     "output_type": "stream",
     "text": [
      "1\n",
      "0\n",
      "1\n",
      "2\n"
     ]
    }
   ],
   "source": [
    "n = int(input())\n",
    "\n",
    "a = int(n/100)\n",
    "b = int(n/10) -10*a\n",
    "c = n - 100*a -10*b\n",
    "\n",
    "print(a)\n",
    "print(b)\n",
    "print(c)\n",
    "\n",
    "print(a+b+c)"
   ]
  },
  {
   "cell_type": "code",
   "execution_count": 1,
   "id": "270e5f8e-b343-4564-a010-d1b6703dc9ce",
   "metadata": {},
   "outputs": [
    {
     "name": "stdin",
     "output_type": "stream",
     "text": [
      " 6\n",
      " 382253568 723152896 37802240 379425024 404894720 471526144\n"
     ]
    },
    {
     "name": "stdout",
     "output_type": "stream",
     "text": [
      "8\n"
     ]
    }
   ],
   "source": [
    "N = int(input())\n",
    "A = list(map(int, input().split()))\n",
    "\n",
    "flag = 0\n",
    "cnt = 0\n",
    "\n",
    "while flag==0:\n",
    "    cnt += 1\n",
    "    for i in range(N):\n",
    "        if(A[i]%2==0):\n",
    "            A[i] = A[i]/2\n",
    "        else:\n",
    "            flag = 1\n",
    "            break\n",
    "\n",
    "print( cnt -1 )"
   ]
  },
  {
   "cell_type": "code",
   "execution_count": 5,
   "id": "12e3f831-dec9-47eb-b7dd-eda94efdde78",
   "metadata": {},
   "outputs": [
    {
     "name": "stdout",
     "output_type": "stream",
     "text": [
      "True\n",
      "True\n"
     ]
    },
    {
     "data": {
      "text/plain": [
       "'amer'"
      ]
     },
     "execution_count": 5,
     "metadata": {},
     "output_type": "execute_result"
    }
   ],
   "source": [
    "words = \"dreamer\"\n",
    "print(words.startswith(\"dre\"))\n",
    "print(words.endswith(\"er\"))\n",
    "words[len(\"dre\"):]"
   ]
  },
  {
   "cell_type": "code",
   "execution_count": null,
   "id": "a26db8e2-6696-487e-984c-c6d33fc34781",
   "metadata": {},
   "outputs": [],
   "source": [
    "# N = int(input())\n",
    "t =[]\n",
    "x =[]\n",
    "y =[]\n",
    "\n",
    "for i in range(N+1):\n",
    "    if i==0:\n",
    "        t.append(0) \n",
    "        x.append(0)\n",
    "        y.append(0)\n",
    "    else:\n",
    "        t_i, x_i, y_i = map(int, input().split())\n",
    "        t.append(t_i) \n",
    "        x.append(x_i)\n",
    "        y.append(y_i)\n",
    "\n",
    "for i in range(N):\n",
    "    d = abs(x[i+1]-x[i]) + abs(y[i+1]-y[i]) #マンハッタン距離\n",
    "    T = t[i+1]-t[i] #移動に使える時間\n",
    "  \n",
    "    if d>T:\n",
    "        print(\"No\")\n",
    "        break\n",
    "    \n",
    "    elif (d-T)%2==0:\n",
    "        print(\"Yes\")\n",
    "        break\n",
    "    else:\n",
    "        print(\"No\")\n",
    "        break"
   ]
  },
  {
   "cell_type": "markdown",
   "id": "e2e0ba2f-1ab0-4097-8b5b-01a1e97d627e",
   "metadata": {},
   "source": [
    "# 動的計画法"
   ]
  },
  {
   "cell_type": "markdown",
   "id": "912e2c2e-259c-4845-b0c2-9de82c49e767",
   "metadata": {},
   "source": [
    "# A-flog1"
   ]
  },
  {
   "cell_type": "code",
   "execution_count": 17,
   "id": "53e89a8f-d7ea-4559-984c-c054cf6a52b7",
   "metadata": {},
   "outputs": [
    {
     "name": "stdin",
     "output_type": "stream",
     "text": [
      " 6\n",
      " 30 10 60 10 60 50\n"
     ]
    },
    {
     "name": "stdout",
     "output_type": "stream",
     "text": [
      "40\n"
     ]
    }
   ],
   "source": [
    "N = int(input())\n",
    "h = list(map(int, input().split()))\n",
    "\n",
    "dp = [0]*N\n",
    "dp[0] = 0\n",
    "dp[1] = abs(h[0]-h[1])\n",
    "\n",
    "for i in range(2, N, 1):\n",
    "    two_step = dp[i-2]+abs(h[i-2]-h[i])\n",
    "    one_step =  dp[i-1]+abs(h[i-1]-h[i])                \n",
    "    if( two_step > one_step ):\n",
    "        dp[i] = one_step\n",
    "    else:\n",
    "        dp[i] = two_step\n",
    "\n",
    "print(dp[N-1])"
   ]
  },
  {
   "cell_type": "code",
   "execution_count": 11,
   "id": "79938852-b468-417d-b0fd-29bb2c28c4d1",
   "metadata": {},
   "outputs": [
    {
     "data": {
      "text/plain": [
       "10"
      ]
     },
     "execution_count": 11,
     "metadata": {},
     "output_type": "execute_result"
    }
   ],
   "source": []
  },
  {
   "cell_type": "code",
   "execution_count": 11,
   "id": "378e215d-e305-46bd-b145-f6774f533df0",
   "metadata": {},
   "outputs": [
    {
     "name": "stdin",
     "output_type": "stream",
     "text": [
      " 25\n"
     ]
    },
    {
     "name": "stdout",
     "output_type": "stream",
     "text": [
      "701\n"
     ]
    }
   ],
   "source": [
    "import math\n",
    "n = int(input())\n",
    "\n",
    "dp = [0]*(n+1)\n",
    "dp[0] = 1\n",
    "dp[1] = dp[0]\n",
    "if n>=2:\n",
    "    dp[2] = dp[1] + dp[0]\n",
    "    if n>=3:\n",
    "        for i in range(3, n+1, 1):\n",
    "            dp[i] = dp[i-1] + dp[i-2] + dp[i-3]\n",
    "print(math.ceil(dp[n]/10/365))"
   ]
  },
  {
   "cell_type": "markdown",
   "id": "5c1470a2-9afd-41e2-bcf3-23e28c8ff654",
   "metadata": {},
   "source": [
    "# B-flog2"
   ]
  },
  {
   "cell_type": "code",
   "execution_count": null,
   "id": "7a42c056-231f-4441-86fa-76d1cbdcbf7a",
   "metadata": {},
   "outputs": [],
   "source": [
    "N, K = map(int, input().split())\n",
    "h = list(map(int, input().split()))\n",
    "\n",
    "dp = [1e10] * (N)\n",
    "dp[0] = 0\n",
    "dp[1] = abs(h[1]-h[0])\n",
    "\n",
    "for i in range(2, N, 1):\n",
    "    if(i<K):\n",
    "        for j in range(i):\n",
    "            dp[i] = min(dp[i], dp[j]+abs(h[i]-h[j]))\n",
    "    else:\n",
    "        for j in range(K):\n",
    "            dp[i] = min(dp[i], dp[i-K+j]+abs(h[i]-h[i-K+j]))\n",
    "\n",
    "print(dp[N-1])"
   ]
  },
  {
   "cell_type": "markdown",
   "id": "1c84af2b-ee21-4287-8cbe-8c7ef55387f4",
   "metadata": {},
   "source": [
    "# C-Strange Bank"
   ]
  },
  {
   "cell_type": "code",
   "execution_count": 5,
   "id": "69770497-f740-48e6-86f8-7dad8b7d6929",
   "metadata": {},
   "outputs": [
    {
     "data": {
      "text/plain": [
       "59049"
      ]
     },
     "execution_count": 5,
     "metadata": {},
     "output_type": "execute_result"
    }
   ],
   "source": [
    "9**5"
   ]
  },
  {
   "cell_type": "code",
   "execution_count": 12,
   "id": "c6004db4-88a7-4c52-b271-ffee2d2cc4c0",
   "metadata": {},
   "outputs": [
    {
     "data": {
      "text/plain": [
       "46656"
      ]
     },
     "execution_count": 12,
     "metadata": {},
     "output_type": "execute_result"
    }
   ],
   "source": [
    "6**6"
   ]
  },
  {
   "cell_type": "code",
   "execution_count": null,
   "id": "8d88f6a0-f407-4cb9-97b5-165b1c99f779",
   "metadata": {},
   "outputs": [],
   "source": [
    "N = int(input())\n",
    "six = [6**i for i in range (1, 10, 1) if 6**i<=N]\n",
    "nine = [9**i for i in range(1, 10, 1) if 9**i<=N]"
   ]
  },
  {
   "cell_type": "code",
   "execution_count": 4,
   "id": "930a0d0b-6923-4a79-8573-6e4b9fbd1ee3",
   "metadata": {},
   "outputs": [
    {
     "name": "stdin",
     "output_type": "stream",
     "text": [
      " 200\n",
      " 61\n"
     ]
    },
    {
     "name": "stdout",
     "output_type": "stream",
     "text": [
      "600\n"
     ]
    }
   ],
   "source": [
    "X = int(input())\n",
    "M = int(input())\n",
    "c = 0\n",
    "if(M%30!=0):\n",
    "    c = 1\n",
    "print(X*(int(M/30) +c))"
   ]
  },
  {
   "cell_type": "code",
   "execution_count": 23,
   "id": "73056a4d-6430-420d-b485-43db350901d0",
   "metadata": {},
   "outputs": [
    {
     "name": "stdin",
     "output_type": "stream",
     "text": [
      " \n"
     ]
    },
    {
     "ename": "ValueError",
     "evalue": "not enough values to unpack (expected 2, got 0)",
     "output_type": "error",
     "traceback": [
      "\u001b[1;31m---------------------------------------------------------------------------\u001b[0m",
      "\u001b[1;31mValueError\u001b[0m                                Traceback (most recent call last)",
      "Input \u001b[1;32mIn [23]\u001b[0m, in \u001b[0;36m<cell line: 1>\u001b[1;34m()\u001b[0m\n\u001b[1;32m----> 1\u001b[0m H, W \u001b[38;5;241m=\u001b[39m \u001b[38;5;28mmap\u001b[39m(\u001b[38;5;28mint\u001b[39m, \u001b[38;5;28minput\u001b[39m()\u001b[38;5;241m.\u001b[39msplit())\n\u001b[0;32m      2\u001b[0m r, c \u001b[38;5;241m=\u001b[39m \u001b[38;5;28mmap\u001b[39m(\u001b[38;5;28mint\u001b[39m, \u001b[38;5;28minput\u001b[39m()\u001b[38;5;241m.\u001b[39msplit())\n\u001b[0;32m      3\u001b[0m s \u001b[38;5;241m=\u001b[39m [\u001b[38;5;124m\"\u001b[39m\u001b[38;5;124m\"\u001b[39m]\u001b[38;5;241m*\u001b[39mH\n",
      "\u001b[1;31mValueError\u001b[0m: not enough values to unpack (expected 2, got 0)"
     ]
    }
   ],
   "source": [
    "H, W = map(int, input().split())\n",
    "r, c = map(int, input().split())\n",
    "s = [\"\"]*H\n",
    "reached = [[False]* W]*H\n",
    "for i in range(H):\n",
    "    s[i] = [s_i for s_i in input()]\n",
    "\n",
    "def search(h, w):\n",
    "    if (h<0 or h>H-1 or w<0 or w>W-1 or s[h][w]==\"#\"):\n",
    "        return\n",
    "    if reached[h][w]:\n",
    "        return\n",
    "    reached[h][w] = True\n",
    "    s[h][w] = \"#\"\n",
    "    search(h+1, w)\n",
    "    search(h-1, w)\n",
    "    search(h, w+1)\n",
    "    search(h, w-1)\n",
    "\n",
    "search(r-1, c-1)\n",
    "for h in range(H):\n",
    "    print(\"\".join(s[h]))"
   ]
  },
  {
   "cell_type": "code",
   "execution_count": 22,
   "id": "5a2cdea1-6139-4a3e-af44-8d6bc734a0a0",
   "metadata": {},
   "outputs": [
    {
     "data": {
      "text/plain": [
       "False"
      ]
     },
     "execution_count": 22,
     "metadata": {},
     "output_type": "execute_result"
    }
   ],
   "source": [
    "reached[H-1][W-1]"
   ]
  },
  {
   "cell_type": "code",
   "execution_count": 24,
   "id": "dd12a5cc-630e-42eb-b399-492f6fea62cc",
   "metadata": {},
   "outputs": [],
   "source": [
    "s = \"..##...\""
   ]
  },
  {
   "cell_type": "code",
   "execution_count": 25,
   "id": "5f1d84e5-184c-49ed-ba20-9099a439069a",
   "metadata": {},
   "outputs": [],
   "source": [
    "S = [s_i for s_i in s]"
   ]
  },
  {
   "cell_type": "code",
   "execution_count": 28,
   "id": "b42fd8c7-4dc7-4a7f-bc97-18e7516c953d",
   "metadata": {},
   "outputs": [
    {
     "data": {
      "text/plain": [
       "'#'"
      ]
     },
     "execution_count": 28,
     "metadata": {},
     "output_type": "execute_result"
    }
   ],
   "source": [
    "S[0]=\"#\"\n",
    "S[0]"
   ]
  },
  {
   "cell_type": "code",
   "execution_count": 29,
   "id": "ed68c081-d4bb-476a-b42d-b6e37b7b614e",
   "metadata": {},
   "outputs": [
    {
     "name": "stdout",
     "output_type": "stream",
     "text": [
      "a\n",
      "b\n"
     ]
    }
   ],
   "source": [
    "print(\"a\")\n",
    "print(\"b\")"
   ]
  },
  {
   "cell_type": "code",
   "execution_count": 30,
   "id": "a60eb1fe-15ad-4918-9be3-55528d1fdb28",
   "metadata": {},
   "outputs": [
    {
     "ename": "SyntaxError",
     "evalue": "invalid syntax (4051794616.py, line 1)",
     "output_type": "error",
     "traceback": [
      "\u001b[1;36m  Input \u001b[1;32mIn [30]\u001b[1;36m\u001b[0m\n\u001b[1;33m    6 8\u001b[0m\n\u001b[1;37m      ^\u001b[0m\n\u001b[1;31mSyntaxError\u001b[0m\u001b[1;31m:\u001b[0m invalid syntax\n"
     ]
    }
   ],
   "source": [
    "6 8\n",
    "5 4\n",
    " 0 1 2 3 4 5 6 7\n",
    "0. # . . . . # .\n",
    "1. . # . . # . .\n",
    "2# # # # # # # #\n",
    "3. . # . . # . .\n",
    "4. # . . . . # .\n",
    "5. . # . . # . ."
   ]
  },
  {
   "cell_type": "code",
   "execution_count": 43,
   "id": "584fe75f-b78b-45c6-b88f-78d1986e7390",
   "metadata": {},
   "outputs": [
    {
     "name": "stdout",
     "output_type": "stream",
     "text": [
      "140715835316360\n",
      "140715835316360\n"
     ]
    },
    {
     "data": {
      "text/plain": [
       "[[True, False, False, False, False, False, False, False],\n",
       " [False, False, False, False, False, False, False, False],\n",
       " [False, False, False, False, False, False, False, False],\n",
       " [False, False, False, False, False, False, False, False],\n",
       " [False, False, False, False, False, False, False, False],\n",
       " [False, False, False, False, False, False, False, False]]"
      ]
     },
     "execution_count": 43,
     "metadata": {},
     "output_type": "execute_result"
    }
   ],
   "source": [
    "\n",
    "reached = [[False]*8 for _ in range(6)]\n",
    "print(id(reached[0][3]))\n",
    "print(id(reached[0][2]))\n",
    "reached[0][0] = True\n",
    "reached"
   ]
  },
  {
   "cell_type": "code",
   "execution_count": 7,
   "id": "76b6ffa4-f6c3-4ea1-a6d2-fd322bdcc2ac",
   "metadata": {},
   "outputs": [
    {
     "ename": "SyntaxError",
     "evalue": "invalid syntax (2135597212.py, line 10)",
     "output_type": "error",
     "traceback": [
      "\u001b[1;36m  Input \u001b[1;32mIn [7]\u001b[1;36m\u001b[0m\n\u001b[1;33m    if calendar[j]\u001b[0m\n\u001b[1;37m                  ^\u001b[0m\n\u001b[1;31mSyntaxError\u001b[0m\u001b[1;31m:\u001b[0m invalid syntax\n"
     ]
    }
   ],
   "source": [
    "N = int(input())\n",
    "A = [0]*N\n",
    "B = [0]*N\n",
    "calendar = [0]*1e6\n",
    "\n",
    "for i in range(N):\n",
    "    A[i], B[i] = map(int, input().split())\n",
    "    for j in range(A[i], B[i]+1, 1):\n",
    "        if calendar[j]==0:\n",
    "            calendar[j] = 1\n",
    "\n",
    "\n",
    "for i in range(max(B)):\n",
    "    if calendar[i+1] == 1:\n",
    "        calendar[i+1] = 1 + calendar[i]\n",
    "print(max(calendar))\n",
    "        "
   ]
  },
  {
   "cell_type": "code",
   "execution_count": 6,
   "id": "45dea052-0f97-43a4-af54-5b25833caf5f",
   "metadata": {},
   "outputs": [
    {
     "name": "stdout",
     "output_type": "stream",
     "text": [
      "4日続きました\n",
      "[1, 2, 3, 4, 0, 0, 0, 1, 0, 1, 0, 1, 2, 3, 4]\n"
     ]
    }
   ],
   "source": [
    "a = [1,1,1,1,0,0,0,1,0,1,0,1,1,1,1] #連続する１を数えたいリスト\n",
    "\n",
    "for i in range(len(a) - 1):\n",
    "    if a[i+1] == 1:\n",
    "        a[i+1] = 1 + a[i]\n",
    "print(str(max(a)) + '日続きました')\n",
    "print(a)\n",
    "\n",
    "#output"
   ]
  },
  {
   "cell_type": "code",
   "execution_count": 1,
   "id": "0f050ede-ae56-42f3-92e7-5db53877b0cc",
   "metadata": {},
   "outputs": [
    {
     "data": {
      "text/plain": [
       "1024"
      ]
     },
     "execution_count": 1,
     "metadata": {},
     "output_type": "execute_result"
    }
   ],
   "source": [
    "1<<10"
   ]
  },
  {
   "cell_type": "code",
   "execution_count": 5,
   "id": "af284d8a-84f9-47db-8e0c-58c3c3c56b3b",
   "metadata": {},
   "outputs": [
    {
     "name": "stdout",
     "output_type": "stream",
     "text": [
      "9876543210"
     ]
    }
   ],
   "source": [
    "for i in range(9, -1, -1):\n",
    "    print(i, end=\"\")"
   ]
  },
  {
   "cell_type": "code",
   "execution_count": 10,
   "id": "6ff8fa76-0c67-4401-be7a-4deb50f20796",
   "metadata": {},
   "outputs": [
    {
     "name": "stdin",
     "output_type": "stream",
     "text": [
      " 13\n"
     ]
    },
    {
     "name": "stdout",
     "output_type": "stream",
     "text": [
      "0\n",
      "0\n",
      "0\n",
      "0\n",
      "0\n",
      "0\n",
      "1\n",
      "1\n",
      "0\n",
      "1\n",
      "\n"
     ]
    }
   ],
   "source": [
    "N = int(input())\n",
    "for i in range(9, -1, -1):\n",
    "    print(int(N/2**i)%2)\n",
    "print()"
   ]
  },
  {
   "cell_type": "code",
   "execution_count": 18,
   "id": "ce2af5d3-91ac-475f-a62b-bbba3ddbbd60",
   "metadata": {},
   "outputs": [
    {
     "name": "stdout",
     "output_type": "stream",
     "text": [
      "0b1101\n",
      "0b110\n",
      "0b11\n",
      "0b1\n"
     ]
    }
   ],
   "source": [
    "print(bin(13))\n",
    "print (bin(13>>1))\n",
    "print (bin(13>>2))\n",
    "print(bin(13>>3))"
   ]
  },
  {
   "cell_type": "code",
   "execution_count": 49,
   "id": "7e736879-4b17-4073-9eb6-9fee832142a8",
   "metadata": {},
   "outputs": [
    {
     "name": "stdout",
     "output_type": "stream",
     "text": [
      "0b1000\n",
      "0b1000\n",
      "0b1101\n",
      "0b101\n",
      "-0b1010\n",
      "0b111110110\n"
     ]
    }
   ],
   "source": [
    "a = 0b1001\n",
    "b = 0b1100\n",
    "c = 0b1101\n",
    "print(bin(a^b^c)) #奇数個あるビットだけたつ\n",
    "print(bin(a&b))\n",
    "print(bin(a|b))\n",
    "print(bin(a^b))#xor\n",
    "print(bin(~a))\n",
    "print(bin(~a&0b111111111))#not"
   ]
  },
  {
   "cell_type": "code",
   "execution_count": 52,
   "id": "d13b62f3-3b0e-4160-9190-281831d03d5c",
   "metadata": {},
   "outputs": [
    {
     "data": {
      "text/plain": [
       "'-0b100'"
      ]
     },
     "execution_count": 52,
     "metadata": {},
     "output_type": "execute_result"
    }
   ],
   "source": [
    "bin(-0b100)"
   ]
  },
  {
   "cell_type": "code",
   "execution_count": 8,
   "id": "8497ce7e-e61c-4ca2-b063-3bdc57c15dd5",
   "metadata": {},
   "outputs": [
    {
     "name": "stdin",
     "output_type": "stream",
     "text": [
      " pppooo\n"
     ]
    },
    {
     "ename": "IndexError",
     "evalue": "string index out of range",
     "output_type": "error",
     "traceback": [
      "\u001b[1;31m---------------------------------------------------------------------------\u001b[0m",
      "\u001b[1;31mIndexError\u001b[0m                                Traceback (most recent call last)",
      "Input \u001b[1;32mIn [8]\u001b[0m, in \u001b[0;36m<cell line: 7>\u001b[1;34m()\u001b[0m\n\u001b[0;32m      3\u001b[0m string \u001b[38;5;241m=\u001b[39m \u001b[38;5;28mstr\u001b[39m(\u001b[38;5;28minput\u001b[39m())\n\u001b[0;32m      5\u001b[0m mode \u001b[38;5;241m=\u001b[39m st\u001b[38;5;241m.\u001b[39mmode(string)\n\u001b[1;32m----> 7\u001b[0m \u001b[43mmode\u001b[49m\u001b[43m[\u001b[49m\u001b[38;5;241;43m1\u001b[39;49m\u001b[43m]\u001b[49m\n",
      "\u001b[1;31mIndexError\u001b[0m: string index out of range"
     ]
    }
   ],
   "source": [
    "import statistics as st\n",
    "\n",
    "string = str(input())\n",
    "\n",
    "mode = st.mode(string)\n",
    "\n",
    "mode"
   ]
  },
  {
   "cell_type": "code",
   "execution_count": 2,
   "id": "3d35b442-8f59-457d-8703-b81ecdc2ae1b",
   "metadata": {},
   "outputs": [
    {
     "data": {
      "text/plain": [
       "10"
      ]
     },
     "execution_count": 2,
     "metadata": {},
     "output_type": "execute_result"
    }
   ],
   "source": [
    "max(10, 10)"
   ]
  },
  {
   "cell_type": "code",
   "execution_count": null,
   "id": "36cc91ed-c82e-4ab5-a036-1da3d909ad3f",
   "metadata": {},
   "outputs": [],
   "source": [
    "N = int(input())\n",
    "Q = list(map(int, input().split()))\n",
    "A = list(map(int, input().split()))\n",
    "B = list(map(int, input().split()))\n",
    "\n",
    "QA = [0]*N\n",
    "QB = [0]*N\n",
    "\n",
    "#QとA or Bの差が一番小さいものを見つける\n",
    "for n in range(N): \n",
    "  if A[n] == 0:\n",
    "    QA[n] = 1e10\n",
    "  else:\n",
    "    QA[n] = int(Q[n]/A[n])\n",
    "    \n",
    "for n in range(N):\n",
    "  if B[n] == 0:\n",
    "    QB[n] = 1e10\n",
    "  else:\n",
    "    QB[n] = int(Q[n]/B[n])\n",
    "\n",
    "QA_min = min(QA)\n",
    "QB_min = min(QB)\n",
    "\n",
    "q = [0]*N\n",
    "discovered = True\n",
    "cnt_max = 0\n",
    "\n",
    "for b in range(QB_min+1):\n",
    "  for i in range(N):\n",
    "    q[i] = QA_min*A[i] +  b*B[i]\n",
    "    if q[i]>Q[i]:\n",
    "      discovered = False\n",
    "      break\n",
    "  if discovered:\n",
    "    cnt_max = max(cnt_max, QA_min+b)\n",
    "  discovered = True\n",
    "\n",
    "print(cnt_max)"
   ]
  },
  {
   "cell_type": "code",
   "execution_count": null,
   "id": "0bef15e3-1cdd-4f83-b5ca-2452ae9db515",
   "metadata": {},
   "outputs": [],
   "source": [
    "N = int(input())\n",
    "print(\"N:\",N)\n",
    "Q = list(map(int, input().split()))\n",
    "A = list(map(int, input().split()))\n",
    "B = list(map(int, input().split()))\n",
    "\n",
    "QA_min = 1e10\n",
    "\n",
    "for n in range(N):\n",
    "    if A[n]!=0:\n",
    "        QA_min = min(QA_min, int(Q[n]/A[n]))\n",
    "cnt = 0\n",
    "\n",
    "for a in range(QA_min+1):\n",
    "    b = 1e10\n",
    "    for n in range(N):\n",
    "        if Q[n]-a*A[n] >= 0 and B[n]!=0:\n",
    "            b = min( b, (Q[n]-a*A[n])//B[n] )\n",
    "    cnt = max( cnt, a+b )\n",
    "print(cnt)"
   ]
  },
  {
   "cell_type": "code",
   "execution_count": 6,
   "id": "6343a7cb-ce32-429d-8b40-62d515c69de0",
   "metadata": {},
   "outputs": [
    {
     "name": "stdout",
     "output_type": "stream",
     "text": [
      "0\n",
      "1\n"
     ]
    }
   ],
   "source": [
    "for i in range(2):\n",
    "    print(i)"
   ]
  },
  {
   "cell_type": "code",
   "execution_count": 11,
   "id": "1a6b172d-dcbb-45da-b330-20d3b8296d28",
   "metadata": {},
   "outputs": [
    {
     "data": {
      "text/plain": [
       "1.3333333333333333"
      ]
     },
     "execution_count": 11,
     "metadata": {},
     "output_type": "execute_result"
    }
   ],
   "source": [
    "4/3"
   ]
  },
  {
   "cell_type": "code",
   "execution_count": 8,
   "id": "03a3bdf7-e98f-4d3a-9cd7-4df68ecf3b1d",
   "metadata": {},
   "outputs": [
    {
     "data": {
      "text/plain": [
       "[[0, 1, 0], [0, 0, 0]]"
      ]
     },
     "execution_count": 8,
     "metadata": {},
     "output_type": "execute_result"
    }
   ],
   "source": [
    "Z = [[0 for _ in range(3) ]for _ in range(2)]\n",
    "Z[0][1] = 1\n",
    "Z"
   ]
  },
  {
   "cell_type": "code",
   "execution_count": 2,
   "id": "6d2ea987-9108-4c38-b05e-a3d796aee031",
   "metadata": {},
   "outputs": [
    {
     "data": {
      "text/plain": [
       "[[0, 0, 0, 0], [0, 0, 0, 0], [0, 0, 0, 0], [0, 0, 0, 0]]"
      ]
     },
     "execution_count": 2,
     "metadata": {},
     "output_type": "execute_result"
    }
   ],
   "source": [
    "Z = [[0 for _ in range(-1, 3, 1)] for _ in range(-1, 3, 1)]\n",
    "Z"
   ]
  },
  {
   "cell_type": "code",
   "execution_count": 3,
   "id": "645f9a07-dcf5-4441-928c-79d2af75c68b",
   "metadata": {},
   "outputs": [
    {
     "data": {
      "text/plain": [
       "[[0, 0, 0, 0], [0, 0, 0, 0], [0, 0, 0, 0], [0, 0, 0, 1]]"
      ]
     },
     "execution_count": 3,
     "metadata": {},
     "output_type": "execute_result"
    }
   ],
   "source": [
    "Z[-1][-1] = 1\n",
    "Z"
   ]
  },
  {
   "cell_type": "code",
   "execution_count": 7,
   "id": "a524b497-ea86-4909-9209-b3c76dafae4f",
   "metadata": {},
   "outputs": [
    {
     "data": {
      "text/plain": [
       "[0, 0, 0, 1]"
      ]
     },
     "execution_count": 7,
     "metadata": {},
     "output_type": "execute_result"
    }
   ],
   "source": [
    "Z[-1]"
   ]
  },
  {
   "cell_type": "code",
   "execution_count": null,
   "id": "687f7942-03ef-4046-8ce7-eba47d075a6f",
   "metadata": {},
   "outputs": [],
   "source": [
    "N = int(input())\n",
    "A = [0]*(N+1)\n",
    "B = [0]*(N+1)\n",
    "C = [0]*(N+1)\n",
    "D = [0]*(N+1)\n",
    "\n",
    "for n in range(1, N+1, 1):\n",
    "  A[n], B[n], C[n], D[n] = map(int, input().split())\n",
    "\n",
    "X = [ [0 for _ in range (-1, 1502, 1)] for _ in range(-1, 1502, 1) ]\n",
    "\n",
    "for n in range(1, N+1, 1):\n",
    "  X[A[n]][B[n]] += 1\n",
    "  X[A[n]][D[n]] -= 1\n",
    "  X[C[n]][B[n]] -= 1\n",
    "  X[C[n]][D[n]] = +1\n",
    "\n",
    "#横方向 累積和 \n",
    "for i in range(1501):\n",
    "  for j in range(1501):\n",
    "    X[i][j] += X[i][j-1]\n",
    "\n",
    "#縦方向 累積和\n",
    "for j in range(1501):\n",
    "  for i in range(1501):\n",
    "    X[i][j] += X[i-1][j]\n",
    "\n",
    "cnt = 0\n",
    "for i in range(1, 10, 1):\n",
    "  for j in range(1, 10, 1):\n",
    "    print(X[i][j], end=\"\")\n",
    "    if X[i][j]!=0:\n",
    "      cnt += 1\n",
    "  print(\"\")\n",
    "print(cnt)"
   ]
  },
  {
   "cell_type": "code",
   "execution_count": null,
   "id": "9fb69bac-4330-453f-be37-0e2f79ae735c",
   "metadata": {},
   "outputs": [],
   "source": [
    "# 入力\n",
    "N = int(input())\n",
    "A = [ None ] * N\n",
    "B = [ None ] * N\n",
    "C = [ None ] * N\n",
    "D = [ None ] * N\n",
    "for i in range(N):\n",
    "\tA[i], B[i], C[i], D[i] = map(int, input().split())\n",
    "\n",
    "# 各紙について +1/-1 を加算\n",
    "T = [ [ 0 ] * 1501 for i in range(1501) ]\n",
    "for i in range(N):\n",
    "\tT[A[i]][B[i]] += 1\n",
    "\tT[A[i]][D[i]] -= 1\n",
    "\tT[C[i]][B[i]] -= 1\n",
    "\tT[C[i]][D[i]] += 1\n",
    "\n",
    "# 累積和をとる\n",
    "for i in range(0, 1501):\n",
    "\tfor j in range(1, 1501):\n",
    "\t\tT[i][j] = T[i][j-1] + T[i][j]\n",
    "for i in range(1, 1501):\n",
    "\tfor j in range(0, 1501):\n",
    "\t\tT[i][j] = T[i-1][j] + T[i][j]\n",
    "\n",
    "# 面積を数える\n",
    "Answer = 0\n",
    "for i in range(1501):\n",
    "\tfor j in range(1501):\n",
    "\t\tif T[i][j] >= 1:\n",
    "\t\t\tAnswer += 1\n",
    "\n",
    "# 出力\n",
    "print(Answer)"
   ]
  },
  {
   "cell_type": "code",
   "execution_count": 8,
   "id": "26e6f449-4da3-470a-85d9-78c724f81394",
   "metadata": {},
   "outputs": [
    {
     "name": "stdin",
     "output_type": "stream",
     "text": [
      " 3 4 5\n"
     ]
    },
    {
     "data": {
      "text/plain": [
       "[0, 3, 4, 5]"
      ]
     },
     "execution_count": 8,
     "metadata": {},
     "output_type": "execute_result"
    }
   ],
   "source": [
    "[0] + list(map(int, input().split()))"
   ]
  },
  {
   "cell_type": "code",
   "execution_count": 2,
   "id": "f450fa3d-02fb-4b03-8101-d40a93f71915",
   "metadata": {},
   "outputs": [
    {
     "data": {
      "text/plain": [
       "3"
      ]
     },
     "execution_count": 2,
     "metadata": {},
     "output_type": "execute_result"
    }
   ],
   "source": [
    "len([0, 1, 2])"
   ]
  },
  {
   "cell_type": "code",
   "execution_count": 5,
   "id": "23c524d6-420f-4592-b889-289e13759ed5",
   "metadata": {},
   "outputs": [
    {
     "name": "stdout",
     "output_type": "stream",
     "text": [
      "4\n",
      "6\n",
      "6\n",
      "4\n"
     ]
    }
   ],
   "source": [
    "import bisect\n",
    "a = [2, 3, 5, 7, 11, 11, 13, 17, 19]\n",
    "print(bisect.bisect_left(a, 11))\n",
    "print(bisect.bisect_right(a, 11))\n",
    "print(bisect.bisect(a, 11))\n",
    "print(bisect.bisect_left(a, 10))"
   ]
  },
  {
   "cell_type": "code",
   "execution_count": 20,
   "id": "e5837e31-cb4d-4ff9-ae29-0ee4c74ff674",
   "metadata": {
    "tags": []
   },
   "outputs": [
    {
     "name": "stdin",
     "output_type": "stream",
     "text": [
      " AABABC\n"
     ]
    },
    {
     "name": "stdout",
     "output_type": "stream",
     "text": [
      "ABC\n",
      "No\n"
     ]
    }
   ],
   "source": [
    "import re\n",
    "S = input()\n",
    "\n",
    "A_pattern = \"A*\"\n",
    "B_pattern = \"B*\"\n",
    "C_pattern = \"C*\"\n",
    "\n",
    "if S == \"\":\n",
    "    print(\"Yes\")\n",
    "else:\n",
    "    S = re.sub(A_pattern, \"\", S, 1)\n",
    "    S = re.sub(B_pattern, \"\", S, 1)\n",
    "    S = re.sub(C_pattern, \"\", S, 1)\n",
    "    if S == \"\":\n",
    "        print(\"Yes\")\n",
    "    else:\n",
    "        print(\"No\")"
   ]
  },
  {
   "cell_type": "code",
   "execution_count": 42,
   "id": "fc22809a-582f-465a-95cc-904992729472",
   "metadata": {},
   "outputs": [],
   "source": [
    "class obj:\n",
    "    pass\n",
    "    \n",
    "a = obj()\n",
    "b = obj()\n",
    "c = obj()\n",
    "\n",
    "a.b = b #aがbを参照\n",
    "b.c = c #bがcを参照\n",
    "c.a = a\n",
    "\n",
    "a = b = c = None"
   ]
  },
  {
   "cell_type": "code",
   "execution_count": 44,
   "id": "9d6b7876-44f2-47d4-a32c-3fc143755bdd",
   "metadata": {},
   "outputs": [
    {
     "data": {
      "text/plain": [
       "0"
      ]
     },
     "execution_count": 44,
     "metadata": {},
     "output_type": "execute_result"
    }
   ],
   "source": [
    "import gc\n",
    "\n",
    "gc.collect()"
   ]
  },
  {
   "cell_type": "code",
   "execution_count": 51,
   "id": "e1ac42c8-8eed-44cd-a0a5-6a5e013999ab",
   "metadata": {},
   "outputs": [
    {
     "name": "stdout",
     "output_type": "stream",
     "text": [
      "None\n",
      "1\n"
     ]
    },
    {
     "data": {
      "text/plain": [
       "<weakref at 0x0000019379D060E0; dead>"
      ]
     },
     "execution_count": 51,
     "metadata": {},
     "output_type": "execute_result"
    }
   ],
   "source": []
  },
  {
   "cell_type": "code",
   "execution_count": null,
   "id": "dddb42d5-8340-4b09-8525-fb9725d995ad",
   "metadata": {},
   "outputs": [],
   "source": []
  }
 ],
 "metadata": {
  "kernelspec": {
   "display_name": "Python 3 (ipykernel)",
   "language": "python",
   "name": "python3"
  },
  "language_info": {
   "codemirror_mode": {
    "name": "ipython",
    "version": 3
   },
   "file_extension": ".py",
   "mimetype": "text/x-python",
   "name": "python",
   "nbconvert_exporter": "python",
   "pygments_lexer": "ipython3",
   "version": "3.9.12"
  }
 },
 "nbformat": 4,
 "nbformat_minor": 5
}
