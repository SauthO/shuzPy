{
 "cells": [
  {
   "cell_type": "code",
   "execution_count": 14,
   "id": "adf59bf3-07d0-4333-86de-51040b633358",
   "metadata": {},
   "outputs": [],
   "source": [
    "import numpy as np\n",
    "import unittest\n",
    "import weakref\n",
    "from memory_profiler import profile"
   ]
  },
  {
   "cell_type": "code",
   "execution_count": 15,
   "id": "b4d677e5-5a2c-40d1-afc0-4f56a86eb192",
   "metadata": {},
   "outputs": [],
   "source": [
    "def as_array(x):\n",
    "    if np.isscalar(x):\n",
    "        return np.array(x)\n",
    "    return x"
   ]
  },
  {
   "cell_type": "code",
   "execution_count": 16,
   "id": "095eace3-b248-4780-a21a-d983332f1c9c",
   "metadata": {
    "tags": []
   },
   "outputs": [],
   "source": [
    "class Variable:\n",
    "    def __init__(self, data):\n",
    "        if data is not None:\n",
    "            if not isinstance(data, np.ndarray):\n",
    "                raise TypeError('{} is not supported'.format(type(data)))\n",
    "        \n",
    "        self.data = data\n",
    "        self.grad = None\n",
    "        self.creator = None\n",
    "        self.generation = 0\n",
    "                \n",
    "    def set_creator(self, func):\n",
    "        self.creator = func\n",
    "        self.generation = func.generation + 1\n",
    "        \n",
    "    def backward(self):\n",
    "        if self.grad is None:\n",
    "            self.grad = np.ones_like(self.data)\n",
    "        \n",
    "        funcs = []\n",
    "        seen_set = set()\n",
    "        \n",
    "        def add_func(f):\n",
    "            if f not in seen_set:\n",
    "                funcs.append(f)\n",
    "                seen_set.add(f)\n",
    "                funcs.sort(key=lambda x:x.generation)\n",
    "                \n",
    "        add_func(self.creator)\n",
    "        \n",
    "        while funcs:\n",
    "            f = funcs.pop()\n",
    "            #print(f.outputs[0].data)\n",
    "            gys = [output().grad for output in f.outputs]\n",
    "            gxs = f.backward(*gys)\n",
    "            if not isinstance(gxs, tuple):\n",
    "                gxs = (gxs, )\n",
    "            for x, gx in zip(f.inputs, gxs):\n",
    "                if x.grad is None:\n",
    "                    x.grad = gx\n",
    "                else :\n",
    "                    x.grad = x.grad + gx\n",
    "                    #x.grad += gx\n",
    "                if x.creator is not None:\n",
    "                    add_func(x.creator)\n",
    "\n",
    "    def cleargrad(self):\n",
    "        self.grad = None"
   ]
  },
  {
   "cell_type": "code",
   "execution_count": 17,
   "id": "61b25bee-fb4b-4ed9-9c41-32d4c28dd3ee",
   "metadata": {},
   "outputs": [],
   "source": [
    "class Function:\n",
    "    def __call__(self, *inputs):\n",
    "        xs = [x.data for x in inputs]\n",
    "        ys = self.forward(*xs)\n",
    "        if not isinstance(ys, tuple):\n",
    "            ys = (ys, )\n",
    "        outputs = [Variable(as_array(y)) for y in ys]\n",
    "        self.generation = max([x.generation for x in inputs])\n",
    "        for output in outputs: \n",
    "            output.set_creator(self)\n",
    "        self.inputs = inputs\n",
    "        self.outputs = [weakref.ref(output) for output in outputs]\n",
    "        return outputs if len(outputs)>1 else outputs[0]\n",
    "    \n",
    "    def forward(self, x):\n",
    "        raise NotImplementedError()\n",
    "        \n",
    "    def backward(self, gy):\n",
    "        raise NotImplementedError()\n",
    "    \n",
    "class Add(Function):\n",
    "    \n",
    "    def forward(self, x0, x1):\n",
    "        y = x0 + x1\n",
    "        return y\n",
    "    \n",
    "    def backward(self, gy):\n",
    "        return gy, gy\n",
    "    \n",
    "class Square(Function):\n",
    "    \n",
    "    def forward(self, x):\n",
    "        return x**2\n",
    "    \n",
    "    def backward(self, gy):\n",
    "        x = self.inputs[0].data\n",
    "        return 2*x*gy\n",
    "    \n",
    "class Exp(Function):\n",
    "    def forward(self, x):\n",
    "        return np.exp(x)\n",
    "    \n",
    "    def backward(self, gy):\n",
    "        x = self.inputs[0].data\n",
    "        return np.exp(x)*gy\n",
    "    \n",
    "def add(x0, x1):\n",
    "    return Add()(x0, x1)\n",
    "\n",
    "def square(x):\n",
    "    return Square()(x)\n",
    "\n",
    "def exp(x):\n",
    "    return Exp()(x)"
   ]
  },
  {
   "cell_type": "code",
   "execution_count": 26,
   "id": "55882bd6-0dd2-4547-b70b-3a8106d31fc2",
   "metadata": {},
   "outputs": [
    {
     "name": "stdout",
     "output_type": "stream",
     "text": [
      "The memory_profiler extension is already loaded. To reload it, use:\n",
      "  %reload_ext memory_profiler\n"
     ]
    },
    {
     "name": "stderr",
     "output_type": "stream",
     "text": [
      "UsageError: Line magic function `%%memray_flamegraph` not found.\n"
     ]
    }
   ],
   "source": [
    "%load_ext memory_profiler\n",
    "%%memray_flamegraph\n",
    "\n",
    "for i in range(10):\n",
    "    x = Variable(np.random.randn(10000))\n",
    "    y = square(square(square(x)))"
   ]
  },
  {
   "cell_type": "code",
   "execution_count": 23,
   "id": "ff03bb45-9659-4039-b701-0d7768df639b",
   "metadata": {},
   "outputs": [],
   "source": []
  },
  {
   "cell_type": "code",
   "execution_count": 25,
   "id": "a008c4af-e51d-4ad2-b1b1-e5ab559da37e",
   "metadata": {},
   "outputs": [
    {
     "name": "stdout",
     "output_type": "stream",
     "text": [
      "ERROR: Could not find file C:\\Users\\shuta\\AppData\\Local\\Temp\\ipykernel_10212\\1719085581.py\n",
      "\n"
     ]
    },
    {
     "data": {
      "text/plain": []
     },
     "metadata": {},
     "output_type": "display_data"
    }
   ],
   "source": [
    "%mprun -f Lloop Lloop(10)"
   ]
  },
  {
   "cell_type": "code",
   "execution_count": 10,
   "id": "6674540f-4a37-44d1-b8b3-780861af9966",
   "metadata": {},
   "outputs": [
    {
     "name": "stdout",
     "output_type": "stream",
     "text": [
      "32.0\n",
      "64.0\n"
     ]
    }
   ],
   "source": [
    "x = Variable(np.array(2.0))\n",
    "a = square(x)\n",
    "y = add(square(a), square(a))\n",
    "y.backward()\n",
    "print(y.data)\n",
    "print(x.grad)"
   ]
  },
  {
   "cell_type": "code",
   "execution_count": 10,
   "id": "3fec4359-572a-40cc-8722-3a62f9634216",
   "metadata": {},
   "outputs": [
    {
     "data": {
      "text/plain": [
       "[0, 1, 1, 2, 2, 4]"
      ]
     },
     "execution_count": 10,
     "metadata": {},
     "output_type": "execute_result"
    }
   ],
   "source": [
    "generations = [2, 0 ,1, 4, 2, 1]\n",
    "funcs = []\n",
    "for g in generations:\n",
    "    f = Function()\n",
    "    f.generation = g\n",
    "    funcs.append(f)\n",
    "\n",
    "funcs.sort(key=lambda x:x.generation)\n",
    "[f.generation for f in funcs]"
   ]
  },
  {
   "cell_type": "code",
   "execution_count": 11,
   "id": "dd94d95e-c762-4590-82ab-c4e7575cd2b6",
   "metadata": {},
   "outputs": [
    {
     "data": {
      "text/plain": [
       "{1, 2, 3}"
      ]
     },
     "execution_count": 11,
     "metadata": {},
     "output_type": "execute_result"
    }
   ],
   "source": [
    "s = set()\n",
    "s.add(1)\n",
    "s.add(2)\n",
    "s.add(3)\n",
    "s.add(1)\n",
    "s"
   ]
  },
  {
   "cell_type": "code",
   "execution_count": 62,
   "id": "8aa1aa6d-964f-4d3e-9c74-da9af61876b0",
   "metadata": {},
   "outputs": [
    {
     "name": "stdout",
     "output_type": "stream",
     "text": [
      "gys  3120459274928\n",
      "gxs[0] 3120459274928\n",
      "gxs[1] 3120459274928\n",
      "y.grad: 1.0 (3120459274928)\n",
      "x.grad: 2.0 (3120459105808)\n"
     ]
    }
   ],
   "source": [
    "x = Variable(np.array(3.0))\n",
    "y = add(x, x)\n",
    "y.backward()\n",
    "print(\"y.grad: {} ({})\".format(y.grad, id(y.grad)))\n",
    "print(\"x.grad: {} ({})\".format(x.grad, id(x.grad)))"
   ]
  },
  {
   "cell_type": "code",
   "execution_count": 49,
   "id": "00853726-542d-474e-8977-586a64d50d35",
   "metadata": {},
   "outputs": [
    {
     "name": "stdout",
     "output_type": "stream",
     "text": [
      "<__main__.Add object at 0x000002D689DC62E0>\n",
      "y.grad: 2.0 (3120427316496)\n",
      "x.grad: 2.0 (3120427316496)\n",
      "<__main__.Add object at 0x000002D689D96970>\n",
      "<__main__.Add object at 0x000002D689D96CD0>\n",
      "5.0\n",
      "clear\n",
      "None\n",
      "<__main__.Add object at 0x000002D689D96970>\n",
      "<__main__.Add object at 0x000002D689D96CD0>\n",
      "8.0\n",
      "clear\n",
      "<__main__.Add object at 0x000002D689D8DE50>\n",
      "<__main__.Add object at 0x000002D689D960D0>\n",
      "4.0\n"
     ]
    }
   ],
   "source": [
    "\n",
    "y = add(add(x, x), x)\n",
    "y.backward()\n",
    "print(x.grad)\n",
    "\n",
    "x.cleargrad()\n",
    "print(\"clear\")\n",
    "print(x.grad)\n",
    "y.backward() #x.gradはNoneにしたけどyは残っている\n",
    "print(x.grad)\n",
    "\n",
    "x.cleargrad()\n",
    "print(\"clear\")\n",
    "y = add(add(x, x), x)\n",
    "y.backward()\n",
    "print(x.grad)"
   ]
  },
  {
   "cell_type": "code",
   "execution_count": 41,
   "id": "5ffa9537-b28b-4475-bd94-422b03fa034c",
   "metadata": {},
   "outputs": [
    {
     "name": "stdout",
     "output_type": "stream",
     "text": [
      "<__main__.Add object at 0x000002D689D948E0>\n",
      "3120459162944\n",
      "3120459162944\n",
      "3120458961216\n",
      "<__main__.Exp object at 0x000002D689DD8430>\n",
      "3120459198208\n",
      "3120459198208\n",
      "3120459107888\n",
      "<__main__.Square object at 0x000002D689DD8250>\n",
      "3120459067008\n",
      "3120459067008\n",
      "3120459107504\n",
      "4.0\n",
      "20.085536923187668\n"
     ]
    }
   ],
   "source": [
    "x0 = Variable(np.array(2.))\n",
    "x1 = Variable(np.array(3.))\n",
    "y = add(square(x0), exp(x1))\n",
    "y.backward()\n",
    "print(x0.grad)\n",
    "print(x1.grad)"
   ]
  },
  {
   "cell_type": "code",
   "execution_count": 27,
   "id": "9ec75e13-ac45-46e1-ae6f-420960726f5e",
   "metadata": {
    "tags": []
   },
   "outputs": [
    {
     "name": "stdout",
     "output_type": "stream",
     "text": [
      "<__main__.Square object at 0x00000226641EC310>\n",
      "1.648721270700128\n",
      "<__main__.Exp object at 0x00000226641EC460>\n",
      "1.2840254166877414\n",
      "<__main__.Square object at 0x00000226640CEC40>\n",
      "0.25\n",
      "3.297442541400256\n"
     ]
    }
   ],
   "source": [
    "x = Variable(np.array(0.5))\n",
    "\n",
    "a = square(x)\n",
    "b = exp(a)\n",
    "y = square(b)\n",
    "\n",
    "y.backward()\n",
    "print(x.grad)"
   ]
  },
  {
   "cell_type": "code",
   "execution_count": 11,
   "id": "2ee0ad40-b551-44ff-950a-fad42dd5dfb5",
   "metadata": {},
   "outputs": [
    {
     "name": "stderr",
     "output_type": "stream",
     "text": [
      "...\n",
      "----------------------------------------------------------------------\n",
      "Ran 3 tests in 0.033s\n",
      "\n",
      "OK\n"
     ]
    },
    {
     "name": "stdout",
     "output_type": "stream",
     "text": [
      "[<__main__.Square object at 0x0000019DA9B43E50>]\n",
      "3.0\n",
      "None\n",
      "1\n",
      "[<__main__.Square object at 0x0000019DA9B43790>]\n",
      "[0.91439732]\n",
      "None\n",
      "1\n"
     ]
    },
    {
     "data": {
      "text/plain": [
       "<unittest.runner.TextTestResult run=3 errors=0 failures=0>"
      ]
     },
     "execution_count": 11,
     "metadata": {},
     "output_type": "execute_result"
    }
   ],
   "source": [
    "def numerical_diff(f, x, eps=1e-4):\n",
    "    x0 = Variable(x.data - eps)\n",
    "    x1 = Variable(x.data + eps)\n",
    "    y0 = f(x0)\n",
    "    y1 = f(x1)\n",
    "    return (y1.data-y0.data)/2./eps\n",
    "\n",
    "class SquareTest(unittest.TestCase):\n",
    "    def test_forward(self):\n",
    "        x = Variable(np.array(2.0))\n",
    "        y = square(x)\n",
    "        expected = np.array(4.0)\n",
    "        self.assertEqual(y.data, expected)\n",
    "    \n",
    "    def test_backward(self):\n",
    "        x = Variable(np.array(3.0))\n",
    "        y = square(x)\n",
    "        y.backward()\n",
    "        expected = np.array(6.0)\n",
    "        self.assertEqual(x.grad, expected)\n",
    "    def test_grad_check(self):\n",
    "        x = Variable(np.random.rand(1))\n",
    "        y = square(x)\n",
    "        y.backward()\n",
    "        num_grad = numerical_diff(y.creator, x)\n",
    "        flg = np.allclose(x.grad, num_grad)\n",
    "        self.assertTrue(flg)\n",
    "    \n",
    "# TestSuiteインスタンスを作成する\n",
    "suite = unittest.TestSuite()\n",
    "\n",
    "# TestCase派生クラスをテストスイートに追加する\n",
    "suite.addTest(unittest.makeSuite(SquareTest))\n",
    "\n",
    "# テストケース単体をテストスイートに追加する\n",
    "#suite.addTest(SquareTest('test_forward'))\n",
    "\n",
    "# TextTestRunner でテストスイートを実行する\n",
    "unittest.TextTestRunner().run(suite)"
   ]
  },
  {
   "cell_type": "code",
   "execution_count": 10,
   "id": "018e590e-d87c-4b40-8dae-7d6c17c42a2a",
   "metadata": {},
   "outputs": [
    {
     "data": {
      "text/plain": [
       "array(1.)"
      ]
     },
     "execution_count": 10,
     "metadata": {},
     "output_type": "execute_result"
    }
   ],
   "source": [
    "data = np.array(1.0)\n",
    "x = Variable(data)\n",
    "x.data"
   ]
  },
  {
   "cell_type": "code",
   "execution_count": 8,
   "id": "4abe1a02-848b-414e-a4e2-a5ef7b84626f",
   "metadata": {},
   "outputs": [
    {
     "name": "stdout",
     "output_type": "stream",
     "text": [
      "0\n",
      "1\n"
     ]
    }
   ],
   "source": [
    "print(x.data.ndim)\n",
    "print(np.array([1, 2, 3]).ndim)"
   ]
  },
  {
   "cell_type": "code",
   "execution_count": 13,
   "id": "d4081dee-356f-48fa-a1c9-f2e6ee535d7d",
   "metadata": {},
   "outputs": [
    {
     "data": {
      "text/plain": [
       "4"
      ]
     },
     "execution_count": 13,
     "metadata": {},
     "output_type": "execute_result"
    }
   ],
   "source": [
    "x = Variable(np.array(2))\n",
    "f = Function()\n",
    "y = f(x)\n",
    "y.data"
   ]
  },
  {
   "cell_type": "code",
   "execution_count": null,
   "id": "d6081a12-79e3-4837-a77e-0feeadaa00e7",
   "metadata": {},
   "outputs": [],
   "source": [
    "\"\"\"    \n",
    "def numerical_diff(f, x, eps=1e-4):\n",
    "    x0 = Variable(x.data - eps)\n",
    "    x1 = Variable(x.data + eps)\n",
    "    return (f(x1).data - f(x0).data) / 2. / eps\n",
    "\n",
    "def f(x):\n",
    "    A = Square()\n",
    "    B = Exp()\n",
    "    C = Square()\n",
    "    return A(B(C(x)))\n",
    "x = Variable(np.array(0.5))\n",
    "dy = numerical_diff(f, x)\n",
    "dy\n",
    "\n",
    "y.grad = np.array(1.0)\n",
    "b.grad = C.backward(y.grad)\n",
    "a.grad = B.backward(b.grad)\n",
    "x.grad = A.backward(a.grad)\n",
    "print(x.grad)\n",
    "\"\"\"\n",
    "\"\"\"\n",
    "assert y.creator == C\n",
    "assert y.creator.input == b\n",
    "assert y.creator.input.creator == B\n",
    "assert y.creator.input.creator.input == a\n",
    "assert y.creator.input.creator.input.creator == A\n",
    "\n",
    "y.grad = np.array(1.0)\n",
    "C = y.creator\n",
    "b = C.input\n",
    "b.grad = C.backward(y.grad)\n",
    "\n",
    "B = b.creator\n",
    "a = B.input\n",
    "a.grad = B.backward(b.grad)\n",
    "\"\"\""
   ]
  },
  {
   "cell_type": "code",
   "execution_count": 23,
   "id": "95b4cdac-754a-4360-a785-ffd6014345f3",
   "metadata": {},
   "outputs": [
    {
     "name": "stdout",
     "output_type": "stream",
     "text": [
      "[1, 2, 3]\n",
      "[1, 2]\n",
      "[1]\n",
      "[]\n",
      "False\n",
      "[1]\n"
     ]
    },
    {
     "data": {
      "text/plain": [
       "[1, 2]"
      ]
     },
     "execution_count": 23,
     "metadata": {},
     "output_type": "execute_result"
    }
   ],
   "source": [
    "l = [1, 2, 3, 4]\n",
    "while l:\n",
    "    l.pop()\n",
    "    print(l)\n",
    "print(bool(l))\n",
    "\n",
    "l.append(1)\n",
    "print(l)\n",
    "l.append(2)\n",
    "l"
   ]
  },
  {
   "cell_type": "code",
   "execution_count": 76,
   "id": "e5b759be-e8f0-4b8c-aae7-97558629acd6",
   "metadata": {},
   "outputs": [
    {
     "ename": "AttributeError",
     "evalue": "'numpy.ndarray' object has no attribute 'type'",
     "output_type": "error",
     "traceback": [
      "\u001b[1;31m---------------------------------------------------------------------------\u001b[0m",
      "\u001b[1;31mAttributeError\u001b[0m                            Traceback (most recent call last)",
      "Input \u001b[1;32mIn [76]\u001b[0m, in \u001b[0;36m<cell line: 1>\u001b[1;34m()\u001b[0m\n\u001b[1;32m----> 1\u001b[0m \u001b[38;5;28mprint\u001b[39m(\u001b[43mnp\u001b[49m\u001b[38;5;241;43m.\u001b[39;49m\u001b[43mones_like\u001b[49m\u001b[43m(\u001b[49m\u001b[38;5;241;43m1.0\u001b[39;49m\u001b[43m)\u001b[49m\u001b[38;5;241;43m.\u001b[39;49m\u001b[43mtype\u001b[49m)\n\u001b[0;32m      2\u001b[0m \u001b[38;5;28mprint\u001b[39m(np\u001b[38;5;241m.\u001b[39mones_like([\u001b[38;5;241m1\u001b[39m, \u001b[38;5;241m2\u001b[39m])\u001b[38;5;241m.\u001b[39mtype)\n",
      "\u001b[1;31mAttributeError\u001b[0m: 'numpy.ndarray' object has no attribute 'type'"
     ]
    }
   ],
   "source": [
    "print(np.ones_like(1.0))\n",
    "print(np.ones_like([1, 2]))\n"
   ]
  },
  {
   "cell_type": "code",
   "execution_count": 27,
   "id": "6d87c0e1-4d57-45b4-aaa0-6c23725edd90",
   "metadata": {},
   "outputs": [
    {
     "data": {
      "text/plain": [
       "False"
      ]
     },
     "execution_count": 27,
     "metadata": {},
     "output_type": "execute_result"
    }
   ],
   "source": [
    "np.isscalar(as_array(1))"
   ]
  },
  {
   "cell_type": "code",
   "execution_count": 14,
   "id": "fa29f2d2-83e0-499a-bc51-eae7499b6442",
   "metadata": {},
   "outputs": [
    {
     "name": "stdout",
     "output_type": "stream",
     "text": [
      "(1, 2, 3)\n"
     ]
    },
    {
     "data": {
      "text/plain": [
       "tuple"
      ]
     },
     "execution_count": 14,
     "metadata": {},
     "output_type": "execute_result"
    }
   ],
   "source": [
    "def f(*x):\n",
    "    print(x)\n",
    "    return x\n",
    "\n",
    "type(f(1, 2, 3))"
   ]
  },
  {
   "cell_type": "code",
   "execution_count": 15,
   "id": "f7cdebb6-cc52-4915-8b2f-e080c9e7bee1",
   "metadata": {},
   "outputs": [
    {
     "ename": "TypeError",
     "evalue": "unsupported operand type(s) for ** or pow(): 'list' and 'int'",
     "output_type": "error",
     "traceback": [
      "\u001b[1;31m---------------------------------------------------------------------------\u001b[0m",
      "\u001b[1;31mTypeError\u001b[0m                                 Traceback (most recent call last)",
      "Input \u001b[1;32mIn [15]\u001b[0m, in \u001b[0;36m<cell line: 2>\u001b[1;34m()\u001b[0m\n\u001b[0;32m      1\u001b[0m x \u001b[38;5;241m=\u001b[39m [\u001b[38;5;241m1\u001b[39m, \u001b[38;5;241m2\u001b[39m, \u001b[38;5;241m3\u001b[39m]\n\u001b[1;32m----> 2\u001b[0m \u001b[43mx\u001b[49m\u001b[38;5;241;43m*\u001b[39;49m\u001b[38;5;241;43m*\u001b[39;49m\u001b[38;5;241;43m2\u001b[39;49m\n",
      "\u001b[1;31mTypeError\u001b[0m: unsupported operand type(s) for ** or pow(): 'list' and 'int'"
     ]
    }
   ],
   "source": [
    "x = [1, 2, 3]\n",
    "x**2"
   ]
  },
  {
   "cell_type": "code",
   "execution_count": 41,
   "id": "20b21d4b-fb71-4e87-9eaf-23432e6cfa48",
   "metadata": {},
   "outputs": [
    {
     "data": {
      "text/plain": [
       "array(3.)"
      ]
     },
     "execution_count": 41,
     "metadata": {},
     "output_type": "execute_result"
    }
   ],
   "source": [
    "x0 = Variable(np.array(1.0))\n",
    "x1 = Variable(np.array(2.0))\n",
    "add(x0, x1).data"
   ]
  },
  {
   "cell_type": "code",
   "execution_count": 44,
   "id": "beca72d4-09a0-4043-a330-a211d1c1d25b",
   "metadata": {},
   "outputs": [
    {
     "name": "stdout",
     "output_type": "stream",
     "text": [
      "Taro 84\n",
      "Picasso 91\n",
      "Cezanne 67\n",
      "<class 'zip'>\n"
     ]
    }
   ],
   "source": [
    "names = ['Taro', 'Picasso', 'Cezanne']\n",
    "ages =  [84, 91, 67]\n",
    "\n",
    "for name, age in zip(names, ages):\n",
    "    print(name, age)\n",
    "print(type(zip(names, ages)))"
   ]
  },
  {
   "cell_type": "code",
   "execution_count": 4,
   "id": "cb564874-b889-4bd4-a4ea-f489ac82d24f",
   "metadata": {},
   "outputs": [
    {
     "name": "stdout",
     "output_type": "stream",
     "text": [
      "<class 'set'>\n",
      "{1, 2, 3}\n"
     ]
    },
    {
     "data": {
      "text/plain": [
       "{1, 2, 3, 4}"
      ]
     },
     "execution_count": 4,
     "metadata": {},
     "output_type": "execute_result"
    }
   ],
   "source": [
    "set_test = set()\n",
    "print(type(set_test))\n",
    "set_test = {1, 2, 3, 2, 3}\n",
    "print(set_test)\n",
    "set_test.add(4)\n",
    "set_test.add(3)\n",
    "set_test"
   ]
  },
  {
   "cell_type": "code",
   "execution_count": null,
   "id": "8bab6720-3375-4acd-bd80-1f21a2153449",
   "metadata": {},
   "outputs": [],
   "source": [
    "gen = [1, 2, 3, 4, 5, 2]\n",
    "funcs = []\n",
    "\n",
    "for g in gen:\n",
    "    f = Function()\n",
    "    f.generation = g\n",
    "    funcs.append(f)\n",
    "    "
   ]
  },
  {
   "cell_type": "code",
   "execution_count": null,
   "id": "7490fa7d-69ce-472f-a24b-a9744a39539e",
   "metadata": {},
   "outputs": [],
   "source": []
  },
  {
   "cell_type": "markdown",
   "id": "1c731d92-922f-4e66-ba9a-774bf3690710",
   "metadata": {},
   "source": [
    "# 再帰とループ処理"
   ]
  },
  {
   "cell_type": "code",
   "execution_count": 2,
   "id": "efe4ac30-6424-4b57-ac8a-d92c09f0e31f",
   "metadata": {},
   "outputs": [],
   "source": [
    "class Variable:\n",
    "    def __init__(self, data):\n",
    "        self.data = data\n",
    "        self.grad = None\n",
    "        self.creator = None\n",
    "\n",
    "    def set_creator(self, func):\n",
    "        self.creator = func\n",
    "\n",
    "    def backward(self):\n",
    "        f = self.creator  # 1. Get a function\n",
    "        if f is not None:\n",
    "            x = f.input  # 2. Get the function's input\n",
    "            x.grad = f.backward(self.grad)  # 3. Call the function's backward\n",
    "            x.backward()\n",
    "\n"
   ]
  },
  {
   "cell_type": "code",
   "execution_count": null,
   "id": "0018d36d-3280-4b56-8493-1511c09db590",
   "metadata": {},
   "outputs": [],
   "source": [
    "\n",
    "class Function:\n",
    "    def __call__(self, input):\n",
    "        x = input.data\n",
    "        y = self.forward(x)\n",
    "        output = Variable(y)\n",
    "        output.set_creator(self)  # Set parent(function)\n",
    "        self.input = input\n",
    "        self.output = output  # Set output\n",
    "        return output\n",
    "\n",
    "    def forward(self, x):\n",
    "        raise NotImplementedError()\n",
    "\n",
    "    def backward(self, gy):\n",
    "        raise NotImplementedError()\n",
    "\n",
    "\n",
    "class Square(Function):\n",
    "    def forward(self, x):\n",
    "        y = x ** 2\n",
    "        return y\n",
    "\n",
    "    def backward(self, gy):\n",
    "        x = self.input.data\n",
    "        gx = 2 * x * gy\n",
    "        return gx\n",
    "\n",
    "\n",
    "class Exp(Function):\n",
    "    def forward(self, x):\n",
    "        y = np.exp(x)\n",
    "        return y\n",
    "\n",
    "    def backward(self, gy):\n",
    "        x = self.input.data\n",
    "        gx = np.exp(x) * gy\n",
    "        return gx\n",
    "\n",
    "\n"
   ]
  },
  {
   "cell_type": "code",
   "execution_count": null,
   "id": "30c2addf-b662-4292-9f3b-716b43b9222a",
   "metadata": {},
   "outputs": [],
   "source": [
    "A = Square()\n",
    "B = Exp()\n",
    "C = Square()\n",
    "\n",
    "x = Variable(np.array(0.5))\n",
    "a = A(x)\n",
    "b = B(a)\n",
    "y = C(b)\n",
    "\n",
    "# backward\n",
    "y.grad = np.array(1.0)\n",
    "y.backward()\n",
    "print(x.grad)"
   ]
  },
  {
   "cell_type": "code",
   "execution_count": 9,
   "id": "60907903-ac1a-4a39-9a9d-ce411b8172a4",
   "metadata": {},
   "outputs": [],
   "source": [
    "#再帰\n",
    "def recursive(n):\n",
    "    if n==0:\n",
    "        return 1\n",
    "    else:\n",
    "        print(n, \"*\", \"recursive(\", n-1, \") = \", n*recursive(n-1))\n",
    "        return n*recursive(n-1)\n",
    "\n",
    "# 末尾再帰\n",
    "def fact(n, r = 1):\n",
    "    if n == 0:\n",
    "        return r\n",
    "    else:\n",
    "        print(\"fact(\", n-1, \", \", n*r, \")\")\n",
    "        return fact(n - 1, n * r)\n"
   ]
  },
  {
   "cell_type": "code",
   "execution_count": 13,
   "id": "fe5524f6-209e-46da-8e5e-4d57175dfbd0",
   "metadata": {},
   "outputs": [
    {
     "name": "stdout",
     "output_type": "stream",
     "text": [
      "fact( 2 ,  3 )\n",
      "fact( 1 ,  6 )\n",
      "fact( 0 ,  6 )\n"
     ]
    },
    {
     "data": {
      "text/plain": [
       "6"
      ]
     },
     "execution_count": 13,
     "metadata": {},
     "output_type": "execute_result"
    }
   ],
   "source": [
    "fact(3)"
   ]
  },
  {
   "cell_type": "code",
   "execution_count": 12,
   "id": "e6959842-704b-4a52-8ac1-dad86640fd7f",
   "metadata": {},
   "outputs": [
    {
     "name": "stdout",
     "output_type": "stream",
     "text": [
      "1 * recursive( 0 ) =  1\n",
      "2 * recursive( 1 ) =  2\n",
      "1 * recursive( 0 ) =  1\n",
      "3 * recursive( 2 ) =  6\n",
      "1 * recursive( 0 ) =  1\n",
      "2 * recursive( 1 ) =  2\n",
      "1 * recursive( 0 ) =  1\n"
     ]
    },
    {
     "data": {
      "text/plain": [
       "6"
      ]
     },
     "execution_count": 12,
     "metadata": {},
     "output_type": "execute_result"
    }
   ],
   "source": [
    "recursive(3)"
   ]
  },
  {
   "cell_type": "code",
   "execution_count": 17,
   "id": "711ab032-1e82-43df-a47e-aae1d322e4b4",
   "metadata": {},
   "outputs": [
    {
     "name": "stdout",
     "output_type": "stream",
     "text": [
      "<class 'numpy.ndarray'> 1\n",
      "<class 'numpy.ndarray'> 1\n"
     ]
    }
   ],
   "source": [
    "x = np.array([1.0])\n",
    "y = x**2\n",
    "print(type(x), x.ndim)\n",
    "print(type(y), y.ndim)"
   ]
  },
  {
   "cell_type": "code",
   "execution_count": 18,
   "id": "ef900eb3-04cd-416a-867f-1908aeb8f5d2",
   "metadata": {},
   "outputs": [
    {
     "name": "stdout",
     "output_type": "stream",
     "text": [
      "<class 'numpy.ndarray'> 0\n",
      "<class 'numpy.float64'> 0\n"
     ]
    }
   ],
   "source": [
    "x = np.array(1.0)\n",
    "y = x**2\n",
    "print(type(x), x.ndim)\n",
    "print(type(y), y.ndim)"
   ]
  },
  {
   "cell_type": "code",
   "execution_count": 2,
   "id": "f933cfed-2e2c-4aae-b21f-101538828d07",
   "metadata": {},
   "outputs": [
    {
     "data": {
      "text/plain": [
       "10.0"
      ]
     },
     "execution_count": 2,
     "metadata": {},
     "output_type": "execute_result"
    }
   ],
   "source": [
    "1e1"
   ]
  },
  {
   "cell_type": "code",
   "execution_count": 13,
   "id": "225e74e6-0d4e-4432-a37f-45eb702551aa",
   "metadata": {},
   "outputs": [
    {
     "name": "stdin",
     "output_type": "stream",
     "text": [
      " 10 1 2\n"
     ]
    },
    {
     "name": "stdout",
     "output_type": "stream",
     "text": [
      "13\n"
     ]
    }
   ],
   "source": [
    "N, A, B = map(int, input().split())\n",
    "sum_part = 0\n",
    "sum = 0\n",
    "n4 = 0\n",
    "n3 = 0\n",
    "n2 = 0\n",
    "n1 = 0\n",
    "n0 = 0\n",
    "\n",
    "for i in range(1, N+1, 1):\n",
    "    n4 = int(i/1e4)\n",
    "    n3 = int(i/1e3) - n4*1e1\n",
    "    n2 = int(i/1e2) - n4*1e2 -n3*1e1\n",
    "    n1 = int(i/1e1) - n4*1e3 - n3*1e2 - n2*1e1\n",
    "    n0 = i - n4*1e4 - n3*1e3 - n2*1e2 - n1*1e1\n",
    "    sum_part = n4 + n3 + n2 + n1 + n0\n",
    "    if sum_part>=A and sum_part<=B:\n",
    "        sum += i\n",
    "\n",
    "print(sum)\n",
    "  "
   ]
  },
  {
   "cell_type": "code",
   "execution_count": 22,
   "id": "97b6e7cb-8388-4fdc-9206-a66e2a717c9f",
   "metadata": {},
   "outputs": [
    {
     "name": "stdin",
     "output_type": "stream",
     "text": [
      " 2 3\n"
     ]
    }
   ],
   "source": [
    "a = list(map(int, input().split()))"
   ]
  },
  {
   "cell_type": "code",
   "execution_count": 24,
   "id": "a2ca2d92-3bd7-4a2f-b60f-d863505f3d7f",
   "metadata": {},
   "outputs": [
    {
     "data": {
      "text/plain": [
       "3"
      ]
     },
     "execution_count": 24,
     "metadata": {},
     "output_type": "execute_result"
    }
   ],
   "source": [
    "a[1]"
   ]
  },
  {
   "cell_type": "code",
   "execution_count": null,
   "id": "9561fe47-5213-4a10-b87e-a1196089e8ca",
   "metadata": {},
   "outputs": [],
   "source": [
    "N = int(input())\n",
    "a = list(map(int, input().split()))\n",
    "a.sort(reverse=True)\n",
    "\n",
    "Alice = 0\n",
    "Alice_counter = 0\n",
    "Bob = 0\n",
    "\n",
    "for i in range(N):\n",
    "    if(Alice_counter==0):\n",
    "        Alice += a[i]\n",
    "        Alice_counter = 1\n",
    "    else:\n",
    "        Bob += a[i]\n",
    "        Alice_counter = 0"
   ]
  },
  {
   "cell_type": "code",
   "execution_count": 31,
   "id": "59da253f-69e3-4af6-8f8d-bf4b56ff93d3",
   "metadata": {},
   "outputs": [
    {
     "name": "stdin",
     "output_type": "stream",
     "text": [
      "1 2\n",
      " 10 3\n"
     ]
    },
    {
     "name": "stdout",
     "output_type": "stream",
     "text": [
      "7\n"
     ]
    }
   ],
   "source": []
  },
  {
   "cell_type": "code",
   "execution_count": 32,
   "id": "56a68c9c-108f-43e7-95a6-2e8307cbcafa",
   "metadata": {},
   "outputs": [
    {
     "name": "stdout",
     "output_type": "stream",
     "text": [
      "a\n",
      "a\n",
      "a\n",
      "a\n"
     ]
    }
   ],
   "source": [
    "for _ in range(4):\n",
    "    print(\"a\")"
   ]
  },
  {
   "cell_type": "markdown",
   "id": "2ac1d576-f8d7-414a-bd01-34d6cf78db2f",
   "metadata": {},
   "source": [
    "# 付録A in-place 演算"
   ]
  },
  {
   "cell_type": "code",
   "execution_count": 29,
   "id": "9007866d-e066-471a-a8ac-9bbbb903e9f1",
   "metadata": {},
   "outputs": [
    {
     "name": "stdout",
     "output_type": "stream",
     "text": [
      "3120425903856\n",
      "3120425903856\n",
      "2\n",
      "3120405281808\n"
     ]
    }
   ],
   "source": [
    "x = np.array(1)\n",
    "print(id(x))\n",
    "x += x\n",
    "print(id(x))\n",
    "print(x)\n",
    "x = x+x\n",
    "print(id(x))"
   ]
  },
  {
   "cell_type": "code",
   "execution_count": 31,
   "id": "416072a5-0ef8-47d0-a9c4-93b105eaa477",
   "metadata": {},
   "outputs": [
    {
     "name": "stdout",
     "output_type": "stream",
     "text": [
      "x_before:  3120436084240\n",
      "z_before:  3120436084240\n",
      "x =  1\n",
      "z =  2\n",
      "x_after :  3120436084240\n",
      "z_after :  3120405281808\n"
     ]
    }
   ],
   "source": [
    "x = np.array(1)\n",
    "z = x\n",
    "print(\"x_before: \", id(x))\n",
    "print(\"z_before: \", id(z))\n",
    "z = x + x\n",
    "print(\"x = \", x)\n",
    "print(\"z = \", z)\n",
    "print(\"x_after : \", id(x))\n",
    "print(\"z_after : \", id(z))\n"
   ]
  },
  {
   "cell_type": "code",
   "execution_count": 20,
   "id": "9a72a6ad-6830-47bd-8df0-4a275cee5b40",
   "metadata": {},
   "outputs": [
    {
     "name": "stdout",
     "output_type": "stream",
     "text": [
      "x_before:  3120436523632\n",
      "z_before:  3120436523632\n",
      "x_after :  3120436523632\n",
      "z_after :  3120436392176\n"
     ]
    },
    {
     "data": {
      "text/plain": [
       "2"
      ]
     },
     "execution_count": 20,
     "metadata": {},
     "output_type": "execute_result"
    }
   ],
   "source": [
    "x = np.array(1)\n",
    "z = x\n",
    "print(\"x_before: \", id(x))\n",
    "print(\"z_before: \", id(z))\n",
    "z = x + x\n",
    "print(\"x_after : \", id(x))\n",
    "print(\"z_after : \", id(z))\n",
    "z"
   ]
  },
  {
   "cell_type": "code",
   "execution_count": 22,
   "id": "058d0928-4f1e-4cd7-8148-ef8ab6a656e4",
   "metadata": {},
   "outputs": [
    {
     "name": "stdout",
     "output_type": "stream",
     "text": [
      "x_before:  3120425906064\n",
      "y_before:  3120425903856\n",
      "x_after :  3120425906064\n",
      "y_after :  3120425903856\n"
     ]
    }
   ],
   "source": [
    "x = np.array(1)\n",
    "y = np.array(2)\n",
    "print(\"x_before: \", id(x))\n",
    "print(\"y_before: \", id(y))\n",
    "x += y\n",
    "print(\"x_after : \", id(x))\n",
    "print(\"y_after : \", id(y))"
   ]
  },
  {
   "cell_type": "code",
   "execution_count": 23,
   "id": "bdfd57d1-7083-4ddc-a95f-f04d5a0134e6",
   "metadata": {},
   "outputs": [
    {
     "name": "stdout",
     "output_type": "stream",
     "text": [
      "x_before:  3120427318608\n",
      "y_before:  3120425906064\n",
      "x_after :  3120427318608\n",
      "y_after :  3120425906064\n"
     ]
    }
   ],
   "source": [
    "x = np.array(1)\n",
    "y = np.array(2)\n",
    "print(\"x_before: \", id(x))\n",
    "print(\"y_before: \", id(y))\n",
    "x += x\n",
    "print(\"x_after : \", id(x))\n",
    "print(\"y_after : \", id(y))"
   ]
  },
  {
   "cell_type": "code",
   "execution_count": 1,
   "id": "0c61a276-2221-4054-95d5-7a60b7761350",
   "metadata": {},
   "outputs": [
    {
     "name": "stdout",
     "output_type": "stream",
     "text": [
      "None\n",
      "1\n"
     ]
    },
    {
     "data": {
      "text/plain": [
       "<weakref at 0x000001B908828E00; dead>"
      ]
     },
     "execution_count": 1,
     "metadata": {},
     "output_type": "execute_result"
    }
   ],
   "source": [
    "import weakref\n",
    "import numpy as np\n",
    "a = np.array([1, 2, 3])\n",
    "b = weakref.ref(a)\n",
    "a = None\n",
    "print(b())\n",
    "A = np.array(1)\n",
    "B = A\n",
    "A = None\n",
    "print(B)\n",
    "b"
   ]
  },
  {
   "cell_type": "code",
   "execution_count": 4,
   "id": "f75ca9b8-134d-45b3-aefd-b49847c67020",
   "metadata": {},
   "outputs": [
    {
     "data": {
      "text/plain": [
       "array([[[1.],\n",
       "        [1.]],\n",
       "\n",
       "       [[1.],\n",
       "        [1.]],\n",
       "\n",
       "       [[1.],\n",
       "        [1.]]])"
      ]
     },
     "execution_count": 4,
     "metadata": {},
     "output_type": "execute_result"
    }
   ],
   "source": [
    "import numpy as np\n",
    "np.ones((3, 2, 1))"
   ]
  },
  {
   "cell_type": "code",
   "execution_count": 8,
   "id": "9c1bfdfe-1921-482c-ac0e-c8a71f1b4db1",
   "metadata": {},
   "outputs": [
    {
     "name": "stdout",
     "output_type": "stream",
     "text": [
      "start\n",
      "process..\n",
      "done\n"
     ]
    }
   ],
   "source": [
    "import contextlib\n",
    "@contextlib.contextmanager\n",
    "def config_test():\n",
    "    print(\"start\")\n",
    "    try:\n",
    "        yield\n",
    "    finally:\n",
    "        print(\"done\")\n",
    "\n",
    "with config_test():\n",
    "    print(\"process..\")"
   ]
  },
  {
   "cell_type": "code",
   "execution_count": 9,
   "id": "bd3a5e8e-9fdb-45f6-80fb-0fd8a6844fe1",
   "metadata": {},
   "outputs": [
    {
     "name": "stdout",
     "output_type": "stream",
     "text": [
      "decorated start\n",
      "this is test message\n",
      "decorated end\n"
     ]
    }
   ],
   "source": [
    "@contextlib.contextmanager\n",
    "def tag(name):\n",
    "    print(\"{} start\".format(name))\n",
    "    yield\n",
    "    print('{} end'.format(name))\n",
    "\n",
    "\n",
    "@tag('decorated')\n",
    "def f(content):\n",
    "    print(content)\n",
    "\n",
    "\n",
    "if __name__ == '__main__':\n",
    "    f('this is test message')"
   ]
  },
  {
   "cell_type": "code",
   "execution_count": 10,
   "id": "1aaed903-4c27-45d5-b9c5-568c47e13d20",
   "metadata": {},
   "outputs": [
    {
     "name": "stdout",
     "output_type": "stream",
     "text": [
      "decorated start\n",
      "this is test message\n",
      "decorated end\n"
     ]
    }
   ],
   "source": [
    "@contextlib.contextmanager\n",
    "def tag(name):\n",
    "    print(\"{} start\".format(name))\n",
    "    yield\n",
    "    print('{} end'.format(name))\n",
    "\n",
    "\n",
    "if __name__ == '__main__':\n",
    "    with tag('decorated'):\n",
    "        print('this is test message')"
   ]
  },
  {
   "cell_type": "code",
   "execution_count": 13,
   "id": "911da872-bd4d-43e6-bd8f-9210c02d6c27",
   "metadata": {},
   "outputs": [
    {
     "data": {
      "text/plain": [
       "0.0"
      ]
     },
     "execution_count": 13,
     "metadata": {},
     "output_type": "execute_result"
    }
   ],
   "source": [
    "z = np.array(1)\n",
    "z.__array_priority__"
   ]
  },
  {
   "cell_type": "code",
   "execution_count": null,
   "id": "25d86d82-6388-4db5-b0a9-9975ffdaf0cf",
   "metadata": {},
   "outputs": [],
   "source": []
  }
 ],
 "metadata": {
  "kernelspec": {
   "display_name": "Python 3 (ipykernel)",
   "language": "python",
   "name": "python3"
  },
  "language_info": {
   "codemirror_mode": {
    "name": "ipython",
    "version": 3
   },
   "file_extension": ".py",
   "mimetype": "text/x-python",
   "name": "python",
   "nbconvert_exporter": "python",
   "pygments_lexer": "ipython3",
   "version": "3.9.12"
  }
 },
 "nbformat": 4,
 "nbformat_minor": 5
}
